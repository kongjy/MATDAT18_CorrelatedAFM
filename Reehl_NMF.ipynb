{
 "cells": [
  {
   "cell_type": "code",
   "execution_count": 1,
   "metadata": {
    "scrolled": true
   },
   "outputs": [],
   "source": [
    "import numpy as np\n",
    "import matplotlib.pyplot as plt\n",
    "from scipy import signal\n",
    "from scipy.ndimage import rotate\n",
    "#for standardizing data matrix\n",
    "from sklearn.preprocessing import scale\n",
    "#for PCA\n",
    "from sklearn.decomposition import PCA as sklearnPCA\n",
    "#for randomly splitting data into training and test sets\n",
    "from sklearn.model_selection import train_test_split\n",
    "#linear regression package\n",
    "from sklearn import linear_model \n",
    "#for hyperspectral decomposition\n",
    "from sklearn.decomposition import FastICA, NMF\n",
    "#for calculating p value\n",
    "from scipy.stats import f\n",
    "hyper_list=np.load('../MATDAT18_CorrelatedAFM/hyperspectral_2d.npy')\n",
    "exp_wavenumber=np.load('../MATDAT18_CorrelatedAFM/wavenumber.npy')"
   ]
  },
  {
   "cell_type": "markdown",
   "metadata": {},
   "source": [
    "First perform a 2 compnent NMF and look at the components. "
   ]
  },
  {
   "cell_type": "code",
   "execution_count": null,
   "metadata": {},
   "outputs": [],
   "source": [
    "NMF_model=NMF(n_components=2, init='random', random_state=0, max_iter=1000)\n",
    "NMF_fit=NMF_model.fit_transform(hyper_list[:,1:])\n",
    "NMF_comp=NMF_model.components_\n"
   ]
  },
  {
   "cell_type": "code",
   "execution_count": null,
   "metadata": {},
   "outputs": [],
   "source": [
    "%matplotlib inline\n",
    "for i in range(NMF_comp.shape[0]):\n",
    "    plt.plot(exp_wavenumber[1:], NMF_comp[i,:], label = i) \n",
    "plt.legend()\n",
    "\n",
    "#plt.plot(exp_wavenumber[1:], NMF_comp[0,:])\n",
    "#plt.plot(exp_wavenumber[1:], NMF_comp[1,:])\n",
    "plt.gca().invert_xaxis()\n",
    "plt.title('Nonnegative Matrix Factorization Decomposition')\n",
    "plt.xlabel('Wavenumber (cm$^{-1}$)')\n",
    "plt.ylabel('Intensity (a.u.)')"
   ]
  },
  {
   "cell_type": "code",
   "execution_count": 2,
   "metadata": {},
   "outputs": [],
   "source": [
    "# Jessica's plotting function\n",
    "def show(img, cmap = 'plasma', colorbar = True):\n",
    "    \"\"\"Displays image with colorbar.\"\"\"\n",
    "    fig = plt.imshow(img, cmap = cmap)\n",
    "    imgstd = img.std()\n",
    "    imgmean = img.mean()\n",
    "    ll = imgmean - (2*imgstd)\n",
    "    ul = imgmean + (2*imgstd)\n",
    "    plt.clim(ll,ul)\n",
    "    fig.axes.get_xaxis().set_visible(False)\n",
    "    fig.axes.get_yaxis().set_visible(False)\n",
    "    if colorbar == True:\n",
    "        plt.colorbar()\n",
    "    return "
   ]
  },
  {
   "cell_type": "code",
   "execution_count": null,
   "metadata": {},
   "outputs": [],
   "source": [
    "to_plot=NMF_fit.reshape((231,247,2))\n",
    "\n",
    "plt.figure(figsize=(10,5))\n",
    "plt.subplot(121), show(to_plot[:,:,0]), plt.title('W0')\n",
    "plt.subplot(122), show(to_plot[:,:,1]), plt.title('W1')\n",
    "plt.show()\n"
   ]
  },
  {
   "cell_type": "markdown",
   "metadata": {},
   "source": [
    "# Random Forest Regressor"
   ]
  },
  {
   "cell_type": "code",
   "execution_count": 3,
   "metadata": {},
   "outputs": [],
   "source": [
    "from sklearn.ensemble import RandomForestRegressor\n",
    "from sklearn.model_selection import train_test_split\n",
    "from sklearn.model_selection import KFold\n",
    "from sklearn.metrics import fbeta_score, make_scorer\n",
    "mse_scorer = make_scorer('mean_squared_error')\n",
    "from sklearn.preprocessing import StandardScaler\n",
    "from sklearn.metrics import r2_score\n"
   ]
  },
  {
   "cell_type": "markdown",
   "metadata": {},
   "source": [
    "We want to predict the electrical current for a pixel using its spectra. The first step is to scale the electrical current, as it's on a pico (really really small) scale. So we use scikit's automatic function that standardizes by the standard deviation and centers on the mean. "
   ]
  },
  {
   "cell_type": "code",
   "execution_count": null,
   "metadata": {},
   "outputs": [],
   "source": [
    "#y=np.load(\"../MATDAT18_CorrelatedAFM/cAFM_registered.npy\").reshape((57057))\n",
    "#y=scale(y,axis=0)"
   ]
  },
  {
   "cell_type": "markdown",
   "metadata": {},
   "source": [
    "Just kidding, that didn't work great in terms of unscaling. Instead, just multiply the response out of the pic scale by multiplying y*1e-12. "
   ]
  },
  {
   "cell_type": "code",
   "execution_count": 4,
   "metadata": {},
   "outputs": [],
   "source": [
    "y=np.load(\"../MATDAT18_CorrelatedAFM/cAFM_registered.npy\").reshape((57057))\n",
    "scaled_y = y*1e12"
   ]
  },
  {
   "cell_type": "code",
   "execution_count": null,
   "metadata": {},
   "outputs": [],
   "source": [
    "# Use the NMF componenets as the covariates and current as the response\n",
    "X = hyper_list[:,1:]\n",
    "#X_train, X_test, y_train, y_test = train_test_split(X, y, test_size=0.2, random_state=0)\n",
    "\n",
    "#print(X_train.shape, X_test.shape, y_train.shape, y_test.shape)\n",
    "\n",
    "#kf.get_n_splits(X)\n",
    "\n",
    "    \n",
    "# build One model first\n",
    "#X_train, X_test, y_train, y_test = train_test_split(X, scaled_y, test_size=0.2, random_state=0)\n",
    "rf_regr = RandomForestRegressor(n_estimators=10)\n",
    "#model = rf_regr.fit(X_train, y_train)\n",
    "\n",
    "#make 5 folds\n",
    "k_fold = KFold(n_splits=2, shuffle=True)\n",
    "\n",
    "results = []\n",
    "#feat_importance = []\n",
    "for train, test in k_fold.split(X):\n",
    "    model_fit = rf_regr.fit(X[train], scaled_y[train])\n",
    "    pred = model_fit.predict(X[test])\n",
    "    results.append(r2_score(scaled_y[test], pred))\n",
    "    #feat_importance.append(model_fit.feature_importances_[0:50])\n",
    "    \n",
    "results    \n",
    "#[rf_regr.fit(X[train], scaled_y[train]).score(X[test], scaled_y[test]) for train, test in k_fold.split(X)]\n",
    "\n",
    "\n",
    "#regr_rf = RandomForestRegressor()\n",
    "#regr_rf.fit(X_train, y_train)\n",
    "\n",
    "\n",
    "#from sklearn import metrics\n",
    "#cross_val_score(regr, X, y, cv=5, scoring=mse_scorer)\n",
    "\n",
    "#for train_index, test_index in kf.split(X):\n",
    "#    mod = regr.fit(X[, y)\n",
    "#    print(mod.score())\n",
    "#clf = svm.SVC(kernel='linear', C=1).fit(X_train, y_train)\n"
   ]
  },
  {
   "cell_type": "code",
   "execution_count": null,
   "metadata": {},
   "outputs": [],
   "source": [
    "important_features[0][0]"
   ]
  },
  {
   "cell_type": "markdown",
   "metadata": {},
   "source": [
    "Great. So we have model scores, now we can perform a search for the best parameters using cross validation"
   ]
  },
  {
   "cell_type": "code",
   "execution_count": null,
   "metadata": {},
   "outputs": [],
   "source": [
    "from sklearn.model_selection import GridSearchCV\n",
    "parameters = {'n_estimators':[10,50,100,500], 'max_features':(1,'auto')}\n",
    "model = GridSearchCV(regr_rf, parameters, cv = 5,n_jobs = 4)\n",
    "model.fit(X, scaled_y)"
   ]
  },
  {
   "cell_type": "code",
   "execution_count": null,
   "metadata": {},
   "outputs": [],
   "source": [
    "y = np.load(\"../MATDAT18_CorrelatedAFM/cAFM_registered.npy\").reshape((57057))\n",
    "pred = model.best_estimator_.predict(X)\n",
    "error = scaled_y - pred"
   ]
  },
  {
   "cell_type": "code",
   "execution_count": null,
   "metadata": {
    "scrolled": true
   },
   "outputs": [],
   "source": [
    "\n",
    "to_plot=pred.reshape((231,247))\n",
    "plt.figure(figsize=(18,7))\n",
    "plt.subplot(131), show(to_plot), plt.title('Predicted Scaled')\n",
    "plt.subplot(132), show(scaled_y.reshape((231,247))), plt.title('Actual Scaled')\n",
    "plt.subplot(133), show(error.reshape((231,247))), plt.title('Error')\n",
    "\n",
    "plt.show()\n"
   ]
  },
  {
   "cell_type": "markdown",
   "metadata": {},
   "source": [
    "We have an idea that the objects in this image should be trated differently. We'll use a quick edge detection algorithm to identify regions that need different models. If a pixel belongs to a region we'll use the regression model for that region type. Luckily this first image only has two regions :)"
   ]
  },
  {
   "cell_type": "code",
   "execution_count": null,
   "metadata": {},
   "outputs": [],
   "source": [
    "import cv2\n",
    "img = cv2.blur(NMF_fit.reshape((231,247,2))[:,:,1], (15,15))\n",
    "for i in range(img.shape[0]):\n",
    "    for j in range(img.shape[1]):\n",
    "        if(img[i,j] < 0.005):\n",
    "            img[i,j] = 0\n",
    "        else:\n",
    "            img[i,j] = 255   \n",
    "            \n",
    "\n",
    "canny_edge = cv2.Canny(np.uint8(img),0,1)\n",
    "\n",
    "# plt.subplot(121),plt.imshow(img,cmap = 'gray')\n",
    "#plt.title('Original Image'), plt.xticks([]), plt.yticks([])\n",
    "#plt.subplot(122),plt.imshow(edges,cmap = 'gray')\n",
    "#plt.title('Edge Image'), plt.xticks([]), plt.yticks([])\n",
    "#plt.imshow('canny_edge', canny_edge)\n",
    "#plt.imshow(img)\n",
    "plt.imshow(canny_edge, cmap = 'gray')\n",
    "plt.show()\n",
    "plt.imshow(img, cmap = 'gray')\n",
    "canny_edge\n"
   ]
  },
  {
   "cell_type": "code",
   "execution_count": null,
   "metadata": {},
   "outputs": [],
   "source": [
    "type1 = NMF_fit.reshape((231,247,2))[np.where(img == 0)]\n",
    "print(type1.shape)\n",
    "type2 = NMF_fit.reshape((231,247,2))[np.where(img != 0)]\n",
    "print(type2.shape)\n",
    "#border_points = NMF_fit.reshape((231,247,2))[np.where(canny_edge == 1)]\n"
   ]
  },
  {
   "cell_type": "code",
   "execution_count": 5,
   "metadata": {},
   "outputs": [
    {
     "data": {
      "text/plain": [
       "RandomForestRegressor(bootstrap=True, criterion='mse', max_depth=None,\n",
       "           max_features='auto', max_leaf_nodes=None,\n",
       "           min_impurity_split=1e-07, min_samples_leaf=1,\n",
       "           min_samples_split=2, min_weight_fraction_leaf=0.0,\n",
       "           n_estimators=15, n_jobs=1, oob_score=False, random_state=None,\n",
       "           verbose=0, warm_start=False)"
      ]
     },
     "execution_count": 5,
     "metadata": {},
     "output_type": "execute_result"
    }
   ],
   "source": [
    "#load the current and reshape to vector\n",
    "\n",
    "#X = hyper_list[:,1:]\n",
    "X = hyper_list[:,1:]\n",
    "#y=np.load(\"../MATDAT18_CorrelatedAFM/cAFM_registered.npy\").reshape((57057))\n",
    "y=scaled_y#scale(y,axis=0)\n",
    "X_train, X_test, y_train, y_test = train_test_split(X, y, test_size=0.4, random_state=0)\n",
    "#print(X_train.shape, X_test.shape, y_train.shape, y_test.shape)\n",
    "#make 5 folds\n",
    "#kf = KFold(n_splits=5)\n",
    "#kf.get_n_splits(X)\n",
    "# build One model first\n",
    "\n",
    "regr_rf = RandomForestRegressor(n_estimators=15)\n",
    "regr_rf.fit(X_train, y_train)"
   ]
  },
  {
   "cell_type": "code",
   "execution_count": 6,
   "metadata": {},
   "outputs": [
    {
     "data": {
      "text/plain": [
       "0.9122261994694757"
      ]
     },
     "execution_count": 6,
     "metadata": {},
     "output_type": "execute_result"
    }
   ],
   "source": [
    "pred =regr_rf.predict(X_test)\n",
    "r2_score(y_test, pred)"
   ]
  },
  {
   "cell_type": "code",
   "execution_count": 8,
   "metadata": {},
   "outputs": [
    {
     "data": {
      "text/plain": [
       "[<matplotlib.lines.Line2D at 0x121903a90>]"
      ]
     },
     "execution_count": 8,
     "metadata": {},
     "output_type": "execute_result"
    },
    {
     "data": {
      "image/png": "[encoded data removed]",
      "text/plain": [
       "<Figure size 432x288 with 1 Axes>"
      ]
     },
     "metadata": {},
     "output_type": "display_data"
    }
   ],
   "source": [
    "plt.plot(regr_rf.feature_importances_)"
   ]
  },
  {
   "cell_type": "code",
   "execution_count": 19,
   "metadata": {},
   "outputs": [
    {
     "name": "stdout",
     "output_type": "stream",
     "text": [
      "[493 494 492 491 490]\n",
      "[ 0.46255659  0.28902757  0.11738185  0.00620909  0.0053858 ]\n"
     ]
    }
   ],
   "source": [
    "print(len(exp_wavenumber) - np.argsort(regr_rf.feature_importances_)[::-1][:5])\n",
    "print(np.sort(regr_rf.feature_importances_)[::-1][:5])\n"
   ]
  },
  {
   "cell_type": "markdown",
   "metadata": {},
   "source": [
    "# Comparing to Pure Spectra\n"
   ]
  },
  {
   "cell_type": "code",
   "execution_count": null,
   "metadata": {},
   "outputs": [],
   "source": [
    "p3ht_ref=np.loadtxt('./data/p3ht_ref.txt', delimiter = '\\t', skiprows=1)\n",
    "pmma_ref=np.loadtxt('./data/pmma_ref.txt', delimiter = '\\t', skiprows=1)\n",
    "waves=np.loadtxt('./data/wavenumber_1129.txt', delimiter='\\t', skiprows=1)"
   ]
  },
  {
   "cell_type": "code",
   "execution_count": null,
   "metadata": {},
   "outputs": [],
   "source": [
    "from sklearn.preprocessing import MinMaxScaler\n",
    "scaler = MinMaxScaler()\n",
    "print(p3ht_ref.shape)\n",
    "print(waves.shape)\n",
    "\n",
    "#plt.plot(exp_wavenumber[1:], NMF_comp[0,:])\n",
    "#plt.plot(exp_wavenumber[1:], NMF_comp[1,:])\n",
    "p3ht_ref_scaled = (p3ht_ref - np.min(p3ht_ref))/(np.max(p3ht_ref)-np.min(p3ht_ref))\n",
    "pmma_ref_scaled = (pmma_ref - np.min(pmma_ref))/(np.max(pmma_ref)-np.min(pmma_ref))\n",
    "plt.plot(p3ht_ref_scaled[1:])\n",
    "plt.plot(pmma_ref_scaled[1:])\n",
    "#pmma_ref_scaled = scaler.fit(pmma_ref.reshape(1,-1))\n",
    "#print(p3ht_ref_scaled.shape)"
   ]
  },
  {
   "cell_type": "code",
   "execution_count": null,
   "metadata": {},
   "outputs": [],
   "source": [
    "comp0_scaled = (NMF_comp[0,:] - np.min(NMF_comp[0,:]))/(np.max(NMF_comp[0,:])-np.min(NMF_comp[0,:]))\n",
    "comp1_scaled = (NMF_comp[1,:] - np.min(NMF_comp[1,:]))/(np.max(NMF_comp[1,:])-np.min(NMF_comp[1,:]))\n",
    "plt.plot( comp0_scaled[::-1])\n",
    "plt.plot( comp1_scaled[::-1])"
   ]
  },
  {
   "cell_type": "code",
   "execution_count": null,
   "metadata": {},
   "outputs": [],
   "source": [
    "print(exp_wavenumber[558])\n",
    "print(waves[0])"
   ]
  },
  {
   "cell_type": "code",
   "execution_count": null,
   "metadata": {},
   "outputs": [],
   "source": [
    "from sklearn.metrics import mean_squared_error\n",
    "exp_wavenumber.shape\n",
    "i_comp0 = np.interp(waves,exp_wavenumber[1:], comp0_scaled[::-1])\n",
    "print(mean_squared_error(p3ht_ref_scaled, i_comp0) + mean_squared_error(pmma_ref_scaled, i_comp1))\n",
    "\n",
    "i_comp1 = np.interp(waves,exp_wavenumber[1:], comp1_scaled[::-1])\n",
    "#print(\"PMMA and comp2 MSE:\",mean_squared_error(pmma_ref_scaled, i_comp1))\n",
    "\n",
    "print(mean_squared_error(pmma_ref_scaled, i_comp0) + mean_squared_error(p3ht_ref_scaled, i_comp1))\n",
    "#print(\"P3ht and comp2 MSE:\",mean_squared_error(p3ht_ref_scaled, i_comp1))"
   ]
  }
 ],
 "metadata": {
  "kernelspec": {
   "display_name": "Python 2",
   "language": "python",
   "name": "python2"
  },
  "language_info": {
   "codemirror_mode": {
    "name": "ipython",
    "version": 2
   },
   "file_extension": ".py",
   "mimetype": "text/x-python",
   "name": "python",
   "nbconvert_exporter": "python",
   "pygments_lexer": "ipython2",
   "version": "2.7.12"
  }
 },
 "nbformat": 4,
 "nbformat_minor": 2
}
